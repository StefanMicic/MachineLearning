{
 "cells": [
  {
   "cell_type": "code",
   "execution_count": 1,
   "metadata": {},
   "outputs": [],
   "source": [
    "import pandas as pd\n",
    "import numpy as np \n",
    "import matplotlib.pyplot as plt\n",
    "import seaborn as sns"
   ]
  },
  {
   "cell_type": "raw",
   "metadata": {},
   "source": []
  },
  {
   "cell_type": "code",
   "execution_count": 2,
   "metadata": {},
   "outputs": [],
   "source": [
    "cars = pd.read_csv('Car_sales.csv',encoding = 'ISO-8859-1')"
   ]
  },
  {
   "cell_type": "code",
   "execution_count": 3,
   "metadata": {},
   "outputs": [
    {
     "data": {
      "text/html": [
       "<div>\n",
       "<style scoped>\n",
       "    .dataframe tbody tr th:only-of-type {\n",
       "        vertical-align: middle;\n",
       "    }\n",
       "\n",
       "    .dataframe tbody tr th {\n",
       "        vertical-align: top;\n",
       "    }\n",
       "\n",
       "    .dataframe thead th {\n",
       "        text-align: right;\n",
       "    }\n",
       "</style>\n",
       "<table border=\"1\" class=\"dataframe\">\n",
       "  <thead>\n",
       "    <tr style=\"text-align: right;\">\n",
       "      <th></th>\n",
       "      <th>Manufacturer</th>\n",
       "      <th>Model</th>\n",
       "      <th>Sales_in_thousands</th>\n",
       "      <th>__year_resale_value</th>\n",
       "      <th>Vehicle_type</th>\n",
       "      <th>Price_in_thousands</th>\n",
       "      <th>Engine_size</th>\n",
       "      <th>Horsepower</th>\n",
       "      <th>Wheelbase</th>\n",
       "      <th>Width</th>\n",
       "      <th>Length</th>\n",
       "      <th>Curb_weight</th>\n",
       "      <th>Fuel_capacity</th>\n",
       "      <th>Fuel_efficiency</th>\n",
       "      <th>Latest_Launch</th>\n",
       "      <th>Power_perf_factor</th>\n",
       "    </tr>\n",
       "  </thead>\n",
       "  <tbody>\n",
       "    <tr>\n",
       "      <th>0</th>\n",
       "      <td>Acura</td>\n",
       "      <td>Integra</td>\n",
       "      <td>16.919</td>\n",
       "      <td>16.360</td>\n",
       "      <td>Passenger</td>\n",
       "      <td>21.50</td>\n",
       "      <td>1.8</td>\n",
       "      <td>140.0</td>\n",
       "      <td>101.2</td>\n",
       "      <td>67.3</td>\n",
       "      <td>172.4</td>\n",
       "      <td>2.639</td>\n",
       "      <td>13.2</td>\n",
       "      <td>28.0</td>\n",
       "      <td>2/2/2012</td>\n",
       "      <td>58.280150</td>\n",
       "    </tr>\n",
       "    <tr>\n",
       "      <th>1</th>\n",
       "      <td>Acura</td>\n",
       "      <td>TL</td>\n",
       "      <td>39.384</td>\n",
       "      <td>19.875</td>\n",
       "      <td>Passenger</td>\n",
       "      <td>28.40</td>\n",
       "      <td>3.2</td>\n",
       "      <td>225.0</td>\n",
       "      <td>108.1</td>\n",
       "      <td>70.3</td>\n",
       "      <td>192.9</td>\n",
       "      <td>3.517</td>\n",
       "      <td>17.2</td>\n",
       "      <td>25.0</td>\n",
       "      <td>6/3/2011</td>\n",
       "      <td>91.370778</td>\n",
       "    </tr>\n",
       "    <tr>\n",
       "      <th>3</th>\n",
       "      <td>Acura</td>\n",
       "      <td>RL</td>\n",
       "      <td>8.588</td>\n",
       "      <td>29.725</td>\n",
       "      <td>Passenger</td>\n",
       "      <td>42.00</td>\n",
       "      <td>3.5</td>\n",
       "      <td>210.0</td>\n",
       "      <td>114.6</td>\n",
       "      <td>71.4</td>\n",
       "      <td>196.6</td>\n",
       "      <td>3.850</td>\n",
       "      <td>18.0</td>\n",
       "      <td>22.0</td>\n",
       "      <td>3/10/2011</td>\n",
       "      <td>91.389779</td>\n",
       "    </tr>\n",
       "    <tr>\n",
       "      <th>4</th>\n",
       "      <td>Audi</td>\n",
       "      <td>A4</td>\n",
       "      <td>20.397</td>\n",
       "      <td>22.255</td>\n",
       "      <td>Passenger</td>\n",
       "      <td>23.99</td>\n",
       "      <td>1.8</td>\n",
       "      <td>150.0</td>\n",
       "      <td>102.6</td>\n",
       "      <td>68.2</td>\n",
       "      <td>178.0</td>\n",
       "      <td>2.998</td>\n",
       "      <td>16.4</td>\n",
       "      <td>27.0</td>\n",
       "      <td>10/8/2011</td>\n",
       "      <td>62.777639</td>\n",
       "    </tr>\n",
       "    <tr>\n",
       "      <th>5</th>\n",
       "      <td>Audi</td>\n",
       "      <td>A6</td>\n",
       "      <td>18.780</td>\n",
       "      <td>23.555</td>\n",
       "      <td>Passenger</td>\n",
       "      <td>33.95</td>\n",
       "      <td>2.8</td>\n",
       "      <td>200.0</td>\n",
       "      <td>108.7</td>\n",
       "      <td>76.1</td>\n",
       "      <td>192.0</td>\n",
       "      <td>3.561</td>\n",
       "      <td>18.5</td>\n",
       "      <td>22.0</td>\n",
       "      <td>8/9/2011</td>\n",
       "      <td>84.565105</td>\n",
       "    </tr>\n",
       "  </tbody>\n",
       "</table>\n",
       "</div>"
      ],
      "text/plain": [
       "  Manufacturer    Model  Sales_in_thousands  __year_resale_value Vehicle_type  \\\n",
       "0        Acura  Integra              16.919               16.360    Passenger   \n",
       "1        Acura       TL              39.384               19.875    Passenger   \n",
       "3        Acura       RL               8.588               29.725    Passenger   \n",
       "4         Audi       A4              20.397               22.255    Passenger   \n",
       "5         Audi       A6              18.780               23.555    Passenger   \n",
       "\n",
       "   Price_in_thousands  Engine_size  Horsepower  Wheelbase  Width  Length  \\\n",
       "0               21.50          1.8       140.0      101.2   67.3   172.4   \n",
       "1               28.40          3.2       225.0      108.1   70.3   192.9   \n",
       "3               42.00          3.5       210.0      114.6   71.4   196.6   \n",
       "4               23.99          1.8       150.0      102.6   68.2   178.0   \n",
       "5               33.95          2.8       200.0      108.7   76.1   192.0   \n",
       "\n",
       "   Curb_weight  Fuel_capacity  Fuel_efficiency Latest_Launch  \\\n",
       "0        2.639           13.2             28.0      2/2/2012   \n",
       "1        3.517           17.2             25.0      6/3/2011   \n",
       "3        3.850           18.0             22.0     3/10/2011   \n",
       "4        2.998           16.4             27.0     10/8/2011   \n",
       "5        3.561           18.5             22.0      8/9/2011   \n",
       "\n",
       "   Power_perf_factor  \n",
       "0          58.280150  \n",
       "1          91.370778  \n",
       "3          91.389779  \n",
       "4          62.777639  \n",
       "5          84.565105  "
      ]
     },
     "execution_count": 3,
     "metadata": {},
     "output_type": "execute_result"
    }
   ],
   "source": [
    "#Removing NaN rows with values\n",
    "cars = cars.dropna()\n",
    "cars.head()"
   ]
  },
  {
   "cell_type": "code",
   "execution_count": 4,
   "metadata": {},
   "outputs": [
    {
     "data": {
      "text/html": [
       "<div>\n",
       "<style scoped>\n",
       "    .dataframe tbody tr th:only-of-type {\n",
       "        vertical-align: middle;\n",
       "    }\n",
       "\n",
       "    .dataframe tbody tr th {\n",
       "        vertical-align: top;\n",
       "    }\n",
       "\n",
       "    .dataframe thead th {\n",
       "        text-align: right;\n",
       "    }\n",
       "</style>\n",
       "<table border=\"1\" class=\"dataframe\">\n",
       "  <thead>\n",
       "    <tr style=\"text-align: right;\">\n",
       "      <th></th>\n",
       "      <th>Manufacturer</th>\n",
       "      <th>Model</th>\n",
       "      <th>Sales_in_thousands</th>\n",
       "      <th>__year_resale_value</th>\n",
       "      <th>Vehicle_type</th>\n",
       "      <th>Price_in_thousands</th>\n",
       "      <th>Engine_size</th>\n",
       "      <th>Horsepower</th>\n",
       "      <th>Wheelbase</th>\n",
       "      <th>Width</th>\n",
       "      <th>Length</th>\n",
       "      <th>Curb_weight</th>\n",
       "      <th>Fuel_capacity</th>\n",
       "      <th>Fuel_efficiency</th>\n",
       "      <th>Latest_Launch</th>\n",
       "      <th>Power_perf_factor</th>\n",
       "    </tr>\n",
       "  </thead>\n",
       "  <tbody>\n",
       "    <tr>\n",
       "      <th>0</th>\n",
       "      <td>0</td>\n",
       "      <td>62</td>\n",
       "      <td>16.919</td>\n",
       "      <td>16.360</td>\n",
       "      <td>Passenger</td>\n",
       "      <td>21.50</td>\n",
       "      <td>1.8</td>\n",
       "      <td>140.0</td>\n",
       "      <td>101.2</td>\n",
       "      <td>67.3</td>\n",
       "      <td>172.4</td>\n",
       "      <td>2.639</td>\n",
       "      <td>13.2</td>\n",
       "      <td>28.0</td>\n",
       "      <td>2/2/2012</td>\n",
       "      <td>58.280150</td>\n",
       "    </tr>\n",
       "    <tr>\n",
       "      <th>1</th>\n",
       "      <td>0</td>\n",
       "      <td>107</td>\n",
       "      <td>39.384</td>\n",
       "      <td>19.875</td>\n",
       "      <td>Passenger</td>\n",
       "      <td>28.40</td>\n",
       "      <td>3.2</td>\n",
       "      <td>225.0</td>\n",
       "      <td>108.1</td>\n",
       "      <td>70.3</td>\n",
       "      <td>192.9</td>\n",
       "      <td>3.517</td>\n",
       "      <td>17.2</td>\n",
       "      <td>25.0</td>\n",
       "      <td>6/3/2011</td>\n",
       "      <td>91.370778</td>\n",
       "    </tr>\n",
       "    <tr>\n",
       "      <th>3</th>\n",
       "      <td>0</td>\n",
       "      <td>88</td>\n",
       "      <td>8.588</td>\n",
       "      <td>29.725</td>\n",
       "      <td>Passenger</td>\n",
       "      <td>42.00</td>\n",
       "      <td>3.5</td>\n",
       "      <td>210.0</td>\n",
       "      <td>114.6</td>\n",
       "      <td>71.4</td>\n",
       "      <td>196.6</td>\n",
       "      <td>3.850</td>\n",
       "      <td>18.0</td>\n",
       "      <td>22.0</td>\n",
       "      <td>3/10/2011</td>\n",
       "      <td>91.389779</td>\n",
       "    </tr>\n",
       "    <tr>\n",
       "      <th>4</th>\n",
       "      <td>1</td>\n",
       "      <td>4</td>\n",
       "      <td>20.397</td>\n",
       "      <td>22.255</td>\n",
       "      <td>Passenger</td>\n",
       "      <td>23.99</td>\n",
       "      <td>1.8</td>\n",
       "      <td>150.0</td>\n",
       "      <td>102.6</td>\n",
       "      <td>68.2</td>\n",
       "      <td>178.0</td>\n",
       "      <td>2.998</td>\n",
       "      <td>16.4</td>\n",
       "      <td>27.0</td>\n",
       "      <td>10/8/2011</td>\n",
       "      <td>62.777639</td>\n",
       "    </tr>\n",
       "    <tr>\n",
       "      <th>5</th>\n",
       "      <td>1</td>\n",
       "      <td>5</td>\n",
       "      <td>18.780</td>\n",
       "      <td>23.555</td>\n",
       "      <td>Passenger</td>\n",
       "      <td>33.95</td>\n",
       "      <td>2.8</td>\n",
       "      <td>200.0</td>\n",
       "      <td>108.7</td>\n",
       "      <td>76.1</td>\n",
       "      <td>192.0</td>\n",
       "      <td>3.561</td>\n",
       "      <td>18.5</td>\n",
       "      <td>22.0</td>\n",
       "      <td>8/9/2011</td>\n",
       "      <td>84.565105</td>\n",
       "    </tr>\n",
       "  </tbody>\n",
       "</table>\n",
       "</div>"
      ],
      "text/plain": [
       "   Manufacturer  Model  Sales_in_thousands  __year_resale_value Vehicle_type  \\\n",
       "0             0     62              16.919               16.360    Passenger   \n",
       "1             0    107              39.384               19.875    Passenger   \n",
       "3             0     88               8.588               29.725    Passenger   \n",
       "4             1      4              20.397               22.255    Passenger   \n",
       "5             1      5              18.780               23.555    Passenger   \n",
       "\n",
       "   Price_in_thousands  Engine_size  Horsepower  Wheelbase  Width  Length  \\\n",
       "0               21.50          1.8       140.0      101.2   67.3   172.4   \n",
       "1               28.40          3.2       225.0      108.1   70.3   192.9   \n",
       "3               42.00          3.5       210.0      114.6   71.4   196.6   \n",
       "4               23.99          1.8       150.0      102.6   68.2   178.0   \n",
       "5               33.95          2.8       200.0      108.7   76.1   192.0   \n",
       "\n",
       "   Curb_weight  Fuel_capacity  Fuel_efficiency Latest_Launch  \\\n",
       "0        2.639           13.2             28.0      2/2/2012   \n",
       "1        3.517           17.2             25.0      6/3/2011   \n",
       "3        3.850           18.0             22.0     3/10/2011   \n",
       "4        2.998           16.4             27.0     10/8/2011   \n",
       "5        3.561           18.5             22.0      8/9/2011   \n",
       "\n",
       "   Power_perf_factor  \n",
       "0          58.280150  \n",
       "1          91.370778  \n",
       "3          91.389779  \n",
       "4          62.777639  \n",
       "5          84.565105  "
      ]
     },
     "execution_count": 4,
     "metadata": {},
     "output_type": "execute_result"
    }
   ],
   "source": [
    "cars['Model'] = cars['Model'].astype('category')\n",
    "cars['Manufacturer'] = cars['Manufacturer'].astype('category')\n",
    "\n",
    "cat_columns = cars.select_dtypes(['category']).columns\n",
    "\n",
    "cars[cat_columns] = cars[cat_columns].apply(lambda x: x.cat.codes)\n",
    "cars.head()"
   ]
  },
  {
   "cell_type": "code",
   "execution_count": null,
   "metadata": {},
   "outputs": [],
   "source": []
  },
  {
   "cell_type": "code",
   "execution_count": 5,
   "metadata": {},
   "outputs": [
    {
     "data": {
      "text/plain": [
       "<matplotlib.axes._subplots.AxesSubplot at 0x21d4fd781d0>"
      ]
     },
     "execution_count": 5,
     "metadata": {},
     "output_type": "execute_result"
    },
    {
     "data": {
      "image/png": "[encoded data removed]",
      "text/plain": [
       "<Figure size 432x288 with 2 Axes>"
      ]
     },
     "metadata": {},
     "output_type": "display_data"
    }
   ],
   "source": [
    "corr = cars.corr()\n",
    "sns.heatmap(corr, \n",
    "    vmin=-1, vmax=1, center=0)"
   ]
  },
  {
   "cell_type": "code",
   "execution_count": 6,
   "metadata": {},
   "outputs": [],
   "source": [
    "cars = cars.drop(['Manufacturer','Model','Vehicle_type','Wheelbase','Length','Width','Latest_Launch'],axis = 1)"
   ]
  },
  {
   "cell_type": "code",
   "execution_count": 7,
   "metadata": {},
   "outputs": [],
   "source": [
    "X = cars.drop(['Price_in_thousands'],axis = 1)\n",
    "Y = cars['Price_in_thousands']\n",
    "Y = Y.values.reshape(-1,1)"
   ]
  },
  {
   "cell_type": "code",
   "execution_count": 8,
   "metadata": {},
   "outputs": [],
   "source": [
    "from sklearn.preprocessing import MinMaxScaler\n",
    "scaler = MinMaxScaler()\n",
    "X_scaled = scaler.fit_transform(X)\n",
    "Y_scaled = scaler.fit_transform(Y)"
   ]
  },
  {
   "cell_type": "code",
   "execution_count": 9,
   "metadata": {},
   "outputs": [
    {
     "data": {
      "text/plain": [
       "(117, 8)"
      ]
     },
     "execution_count": 9,
     "metadata": {},
     "output_type": "execute_result"
    }
   ],
   "source": [
    "X_scaled.shape"
   ]
  },
  {
   "cell_type": "code",
   "execution_count": 10,
   "metadata": {},
   "outputs": [
    {
     "data": {
      "text/plain": [
       "(117, 1)"
      ]
     },
     "execution_count": 10,
     "metadata": {},
     "output_type": "execute_result"
    }
   ],
   "source": [
    "Y.shape"
   ]
  },
  {
   "cell_type": "code",
   "execution_count": 11,
   "metadata": {},
   "outputs": [],
   "source": [
    "from sklearn.model_selection import train_test_split\n",
    "X_train,X_test,y_train,y_test = train_test_split(X_scaled,Y_scaled,test_size = 0.2)"
   ]
  },
  {
   "cell_type": "code",
   "execution_count": 12,
   "metadata": {},
   "outputs": [
    {
     "name": "stderr",
     "output_type": "stream",
     "text": [
      "C:\\Users\\HP\\Anaconda3\\envs\\ori-env\\lib\\site-packages\\tensorflow\\python\\framework\\dtypes.py:523: FutureWarning: Passing (type, 1) or '1type' as a synonym of type is deprecated; in a future version of numpy, it will be understood as (type, (1,)) / '(1,)type'.\n",
      "  _np_qint8 = np.dtype([(\"qint8\", np.int8, 1)])\n",
      "C:\\Users\\HP\\Anaconda3\\envs\\ori-env\\lib\\site-packages\\tensorflow\\python\\framework\\dtypes.py:524: FutureWarning: Passing (type, 1) or '1type' as a synonym of type is deprecated; in a future version of numpy, it will be understood as (type, (1,)) / '(1,)type'.\n",
      "  _np_quint8 = np.dtype([(\"quint8\", np.uint8, 1)])\n",
      "C:\\Users\\HP\\Anaconda3\\envs\\ori-env\\lib\\site-packages\\tensorflow\\python\\framework\\dtypes.py:525: FutureWarning: Passing (type, 1) or '1type' as a synonym of type is deprecated; in a future version of numpy, it will be understood as (type, (1,)) / '(1,)type'.\n",
      "  _np_qint16 = np.dtype([(\"qint16\", np.int16, 1)])\n",
      "C:\\Users\\HP\\Anaconda3\\envs\\ori-env\\lib\\site-packages\\tensorflow\\python\\framework\\dtypes.py:526: FutureWarning: Passing (type, 1) or '1type' as a synonym of type is deprecated; in a future version of numpy, it will be understood as (type, (1,)) / '(1,)type'.\n",
      "  _np_quint16 = np.dtype([(\"quint16\", np.uint16, 1)])\n",
      "C:\\Users\\HP\\Anaconda3\\envs\\ori-env\\lib\\site-packages\\tensorflow\\python\\framework\\dtypes.py:527: FutureWarning: Passing (type, 1) or '1type' as a synonym of type is deprecated; in a future version of numpy, it will be understood as (type, (1,)) / '(1,)type'.\n",
      "  _np_qint32 = np.dtype([(\"qint32\", np.int32, 1)])\n",
      "C:\\Users\\HP\\Anaconda3\\envs\\ori-env\\lib\\site-packages\\tensorflow\\python\\framework\\dtypes.py:532: FutureWarning: Passing (type, 1) or '1type' as a synonym of type is deprecated; in a future version of numpy, it will be understood as (type, (1,)) / '(1,)type'.\n",
      "  np_resource = np.dtype([(\"resource\", np.ubyte, 1)])\n",
      "C:\\Users\\HP\\Anaconda3\\envs\\ori-env\\lib\\site-packages\\h5py\\__init__.py:36: FutureWarning: Conversion of the second argument of issubdtype from `float` to `np.floating` is deprecated. In future, it will be treated as `np.float64 == np.dtype(float).type`.\n",
      "  from ._conv import register_converters as _register_converters\n",
      "Using TensorFlow backend.\n"
     ]
    },
    {
     "name": "stdout",
     "output_type": "stream",
     "text": [
      "_________________________________________________________________\n",
      "Layer (type)                 Output Shape              Param #   \n",
      "=================================================================\n",
      "dense_1 (Dense)              (None, 16)                144       \n",
      "_________________________________________________________________\n",
      "dense_2 (Dense)              (None, 32)                544       \n",
      "_________________________________________________________________\n",
      "dense_3 (Dense)              (None, 16)                528       \n",
      "_________________________________________________________________\n",
      "dense_4 (Dense)              (None, 1)                 17        \n",
      "=================================================================\n",
      "Total params: 1,233\n",
      "Trainable params: 1,233\n",
      "Non-trainable params: 0\n",
      "_________________________________________________________________\n"
     ]
    }
   ],
   "source": [
    "#Creating a model\n",
    "import tensorflow.keras\n",
    "from keras.models import Sequential\n",
    "from keras.layers import Dense\n",
    "\n",
    "model = Sequential()\n",
    "model.add(Dense(16,input_dim = 8,activation = 'relu'))\n",
    "model.add(Dense(32,activation = 'relu'))\n",
    "model.add(Dense(16,activation = 'relu'))\n",
    "model.add(Dense(1,activation = 'linear'))\n",
    "model.summary()"
   ]
  },
  {
   "cell_type": "code",
   "execution_count": 13,
   "metadata": {},
   "outputs": [],
   "source": [
    "model.compile(optimizer = 'adam',loss = 'mean_squared_error',metrics = [\"accuracy\"])"
   ]
  },
  {
   "cell_type": "code",
   "execution_count": 14,
   "metadata": {},
   "outputs": [
    {
     "name": "stdout",
     "output_type": "stream",
     "text": [
      "Train on 74 samples, validate on 19 samples\n",
      "Epoch 1/150\n",
      "74/74 [==============================] - 1s 7ms/step - loss: 0.0866 - acc: 0.0135 - val_loss: 0.0623 - val_acc: 0.0000e+00\n",
      "Epoch 2/150\n",
      "74/74 [==============================] - 0s 121us/step - loss: 0.0785 - acc: 0.0135 - val_loss: 0.0554 - val_acc: 0.0000e+00\n",
      "Epoch 3/150\n",
      "74/74 [==============================] - 0s 108us/step - loss: 0.0718 - acc: 0.0135 - val_loss: 0.0485 - val_acc: 0.0000e+00\n",
      "Epoch 4/150\n",
      "74/74 [==============================] - 0s 121us/step - loss: 0.0652 - acc: 0.0135 - val_loss: 0.0417 - val_acc: 0.0000e+00\n",
      "Epoch 5/150\n",
      "74/74 [==============================] - 0s 135us/step - loss: 0.0587 - acc: 0.0135 - val_loss: 0.0351 - val_acc: 0.0000e+00\n",
      "Epoch 6/150\n",
      "74/74 [==============================] - 0s 135us/step - loss: 0.0519 - acc: 0.0135 - val_loss: 0.0291 - val_acc: 0.0000e+00\n",
      "Epoch 7/150\n",
      "74/74 [==============================] - 0s 135us/step - loss: 0.0454 - acc: 0.0135 - val_loss: 0.0239 - val_acc: 0.0000e+00\n",
      "Epoch 8/150\n",
      "74/74 [==============================] - 0s 135us/step - loss: 0.0400 - acc: 0.0135 - val_loss: 0.0197 - val_acc: 0.0000e+00\n",
      "Epoch 9/150\n",
      "74/74 [==============================] - 0s 123us/step - loss: 0.0351 - acc: 0.0135 - val_loss: 0.0166 - val_acc: 0.0000e+00\n",
      "Epoch 10/150\n",
      "74/74 [==============================] - 0s 138us/step - loss: 0.0305 - acc: 0.0135 - val_loss: 0.0144 - val_acc: 0.0000e+00\n",
      "Epoch 11/150\n",
      "74/74 [==============================] - 0s 161us/step - loss: 0.0276 - acc: 0.0135 - val_loss: 0.0130 - val_acc: 0.0000e+00\n",
      "Epoch 12/150\n",
      "74/74 [==============================] - 0s 148us/step - loss: 0.0244 - acc: 0.0135 - val_loss: 0.0123 - val_acc: 0.0000e+00\n",
      "Epoch 13/150\n",
      "74/74 [==============================] - 0s 148us/step - loss: 0.0224 - acc: 0.0135 - val_loss: 0.0118 - val_acc: 0.0000e+00\n",
      "Epoch 14/150\n",
      "74/74 [==============================] - 0s 93us/step - loss: 0.0203 - acc: 0.0135 - val_loss: 0.0114 - val_acc: 0.0000e+00\n",
      "Epoch 15/150\n",
      "74/74 [==============================] - 0s 101us/step - loss: 0.0187 - acc: 0.0135 - val_loss: 0.0110 - val_acc: 0.0000e+00\n",
      "Epoch 16/150\n",
      "74/74 [==============================] - 0s 108us/step - loss: 0.0172 - acc: 0.0135 - val_loss: 0.0106 - val_acc: 0.0000e+00\n",
      "Epoch 17/150\n",
      "74/74 [==============================] - 0s 108us/step - loss: 0.0157 - acc: 0.0135 - val_loss: 0.0102 - val_acc: 0.0000e+00\n",
      "Epoch 18/150\n",
      "74/74 [==============================] - 0s 95us/step - loss: 0.0146 - acc: 0.0135 - val_loss: 0.0099 - val_acc: 0.0000e+00\n",
      "Epoch 19/150\n",
      "74/74 [==============================] - 0s 121us/step - loss: 0.0133 - acc: 0.0135 - val_loss: 0.0093 - val_acc: 0.0000e+00\n",
      "Epoch 20/150\n",
      "74/74 [==============================] - 0s 108us/step - loss: 0.0123 - acc: 0.0135 - val_loss: 0.0087 - val_acc: 0.0000e+00\n",
      "Epoch 21/150\n",
      "74/74 [==============================] - 0s 97us/step - loss: 0.0112 - acc: 0.0135 - val_loss: 0.0080 - val_acc: 0.0000e+00\n",
      "Epoch 22/150\n",
      "74/74 [==============================] - 0s 94us/step - loss: 0.0102 - acc: 0.0135 - val_loss: 0.0074 - val_acc: 0.0000e+00\n",
      "Epoch 23/150\n",
      "74/74 [==============================] - 0s 115us/step - loss: 0.0093 - acc: 0.0135 - val_loss: 0.0069 - val_acc: 0.0000e+00\n",
      "Epoch 24/150\n",
      "74/74 [==============================] - 0s 107us/step - loss: 0.0086 - acc: 0.0135 - val_loss: 0.0065 - val_acc: 0.0000e+00\n",
      "Epoch 25/150\n",
      "74/74 [==============================] - 0s 81us/step - loss: 0.0080 - acc: 0.0135 - val_loss: 0.0061 - val_acc: 0.0000e+00\n",
      "Epoch 26/150\n",
      "74/74 [==============================] - 0s 114us/step - loss: 0.0074 - acc: 0.0135 - val_loss: 0.0059 - val_acc: 0.0000e+00\n",
      "Epoch 27/150\n",
      "74/74 [==============================] - 0s 94us/step - loss: 0.0067 - acc: 0.0135 - val_loss: 0.0057 - val_acc: 0.0000e+00\n",
      "Epoch 28/150\n",
      "74/74 [==============================] - 0s 94us/step - loss: 0.0063 - acc: 0.0135 - val_loss: 0.0058 - val_acc: 0.0000e+00\n",
      "Epoch 29/150\n",
      "74/74 [==============================] - 0s 94us/step - loss: 0.0057 - acc: 0.0135 - val_loss: 0.0059 - val_acc: 0.0000e+00\n",
      "Epoch 30/150\n",
      "74/74 [==============================] - 0s 85us/step - loss: 0.0053 - acc: 0.0135 - val_loss: 0.0062 - val_acc: 0.0000e+00\n",
      "Epoch 31/150\n",
      "74/74 [==============================] - 0s 108us/step - loss: 0.0051 - acc: 0.0135 - val_loss: 0.0063 - val_acc: 0.0000e+00\n",
      "Epoch 32/150\n",
      "74/74 [==============================] - 0s 94us/step - loss: 0.0048 - acc: 0.0135 - val_loss: 0.0060 - val_acc: 0.0000e+00\n",
      "Epoch 33/150\n",
      "74/74 [==============================] - 0s 103us/step - loss: 0.0045 - acc: 0.0135 - val_loss: 0.0056 - val_acc: 0.0000e+00\n",
      "Epoch 34/150\n",
      "74/74 [==============================] - 0s 94us/step - loss: 0.0043 - acc: 0.0135 - val_loss: 0.0051 - val_acc: 0.0000e+00\n",
      "Epoch 35/150\n",
      "74/74 [==============================] - 0s 121us/step - loss: 0.0041 - acc: 0.0135 - val_loss: 0.0049 - val_acc: 0.0000e+00\n",
      "Epoch 36/150\n",
      "74/74 [==============================] - 0s 95us/step - loss: 0.0039 - acc: 0.0135 - val_loss: 0.0047 - val_acc: 0.0000e+00\n",
      "Epoch 37/150\n",
      "74/74 [==============================] - 0s 102us/step - loss: 0.0037 - acc: 0.0135 - val_loss: 0.0047 - val_acc: 0.0000e+00\n",
      "Epoch 38/150\n",
      "74/74 [==============================] - 0s 95us/step - loss: 0.0036 - acc: 0.0135 - val_loss: 0.0046 - val_acc: 0.0000e+00\n",
      "Epoch 39/150\n",
      "74/74 [==============================] - 0s 123us/step - loss: 0.0034 - acc: 0.0135 - val_loss: 0.0044 - val_acc: 0.0000e+00\n",
      "Epoch 40/150\n",
      "74/74 [==============================] - 0s 122us/step - loss: 0.0033 - acc: 0.0135 - val_loss: 0.0042 - val_acc: 0.0000e+00\n",
      "Epoch 41/150\n",
      "74/74 [==============================] - 0s 121us/step - loss: 0.0032 - acc: 0.0135 - val_loss: 0.0041 - val_acc: 0.0000e+00\n",
      "Epoch 42/150\n",
      "74/74 [==============================] - 0s 132us/step - loss: 0.0031 - acc: 0.0135 - val_loss: 0.0040 - val_acc: 0.0000e+00\n",
      "Epoch 43/150\n",
      "74/74 [==============================] - 0s 142us/step - loss: 0.0030 - acc: 0.0135 - val_loss: 0.0039 - val_acc: 0.0000e+00\n",
      "Epoch 44/150\n",
      "74/74 [==============================] - 0s 135us/step - loss: 0.0029 - acc: 0.0135 - val_loss: 0.0038 - val_acc: 0.0000e+00\n",
      "Epoch 45/150\n",
      "74/74 [==============================] - 0s 135us/step - loss: 0.0028 - acc: 0.0135 - val_loss: 0.0037 - val_acc: 0.0000e+00\n",
      "Epoch 46/150\n",
      "74/74 [==============================] - 0s 81us/step - loss: 0.0027 - acc: 0.0135 - val_loss: 0.0036 - val_acc: 0.0000e+00\n",
      "Epoch 47/150\n",
      "74/74 [==============================] - 0s 108us/step - loss: 0.0027 - acc: 0.0135 - val_loss: 0.0035 - val_acc: 0.0000e+00\n",
      "Epoch 48/150\n",
      "74/74 [==============================] - 0s 81us/step - loss: 0.0026 - acc: 0.0135 - val_loss: 0.0035 - val_acc: 0.0000e+00\n",
      "Epoch 49/150\n",
      "74/74 [==============================] - 0s 75us/step - loss: 0.0025 - acc: 0.0135 - val_loss: 0.0033 - val_acc: 0.0000e+00\n",
      "Epoch 50/150\n",
      "74/74 [==============================] - 0s 76us/step - loss: 0.0025 - acc: 0.0135 - val_loss: 0.0032 - val_acc: 0.0000e+00\n",
      "Epoch 51/150\n",
      "74/74 [==============================] - 0s 79us/step - loss: 0.0024 - acc: 0.0135 - val_loss: 0.0031 - val_acc: 0.0000e+00\n",
      "Epoch 52/150\n",
      "74/74 [==============================] - 0s 83us/step - loss: 0.0024 - acc: 0.0135 - val_loss: 0.0031 - val_acc: 0.0000e+00\n",
      "Epoch 53/150\n",
      "74/74 [==============================] - 0s 81us/step - loss: 0.0023 - acc: 0.0135 - val_loss: 0.0031 - val_acc: 0.0000e+00\n",
      "Epoch 54/150\n",
      "74/74 [==============================] - 0s 94us/step - loss: 0.0022 - acc: 0.0135 - val_loss: 0.0030 - val_acc: 0.0000e+00\n",
      "Epoch 55/150\n",
      "74/74 [==============================] - 0s 73us/step - loss: 0.0021 - acc: 0.0135 - val_loss: 0.0030 - val_acc: 0.0000e+00\n",
      "Epoch 56/150\n",
      "74/74 [==============================] - 0s 81us/step - loss: 0.0021 - acc: 0.0135 - val_loss: 0.0031 - val_acc: 0.0000e+00\n",
      "Epoch 57/150\n",
      "74/74 [==============================] - 0s 81us/step - loss: 0.0020 - acc: 0.0135 - val_loss: 0.0031 - val_acc: 0.0000e+00\n",
      "Epoch 58/150\n",
      "74/74 [==============================] - 0s 94us/step - loss: 0.0020 - acc: 0.0135 - val_loss: 0.0032 - val_acc: 0.0000e+00\n",
      "Epoch 59/150\n",
      "74/74 [==============================] - 0s 81us/step - loss: 0.0020 - acc: 0.0135 - val_loss: 0.0033 - val_acc: 0.0000e+00\n",
      "Epoch 60/150\n"
     ]
    },
    {
     "name": "stdout",
     "output_type": "stream",
     "text": [
      "74/74 [==============================] - 0s 67us/step - loss: 0.0020 - acc: 0.0135 - val_loss: 0.0032 - val_acc: 0.0000e+00\n",
      "Epoch 61/150\n",
      "74/74 [==============================] - 0s 81us/step - loss: 0.0019 - acc: 0.0135 - val_loss: 0.0031 - val_acc: 0.0000e+00\n",
      "Epoch 62/150\n",
      "74/74 [==============================] - 0s 84us/step - loss: 0.0019 - acc: 0.0135 - val_loss: 0.0030 - val_acc: 0.0000e+00\n",
      "Epoch 63/150\n",
      "74/74 [==============================] - 0s 96us/step - loss: 0.0018 - acc: 0.0135 - val_loss: 0.0029 - val_acc: 0.0000e+00\n",
      "Epoch 64/150\n",
      "74/74 [==============================] - 0s 107us/step - loss: 0.0018 - acc: 0.0135 - val_loss: 0.0028 - val_acc: 0.0000e+00\n",
      "Epoch 65/150\n",
      "74/74 [==============================] - 0s 94us/step - loss: 0.0017 - acc: 0.0135 - val_loss: 0.0028 - val_acc: 0.0000e+00\n",
      "Epoch 66/150\n",
      "74/74 [==============================] - 0s 94us/step - loss: 0.0017 - acc: 0.0135 - val_loss: 0.0029 - val_acc: 0.0000e+00\n",
      "Epoch 67/150\n",
      "74/74 [==============================] - 0s 81us/step - loss: 0.0017 - acc: 0.0135 - val_loss: 0.0031 - val_acc: 0.0000e+00\n",
      "Epoch 68/150\n",
      "74/74 [==============================] - 0s 94us/step - loss: 0.0018 - acc: 0.0135 - val_loss: 0.0031 - val_acc: 0.0000e+00\n",
      "Epoch 69/150\n",
      "74/74 [==============================] - 0s 81us/step - loss: 0.0017 - acc: 0.0135 - val_loss: 0.0029 - val_acc: 0.0000e+00\n",
      "Epoch 70/150\n",
      "74/74 [==============================] - 0s 67us/step - loss: 0.0016 - acc: 0.0135 - val_loss: 0.0025 - val_acc: 0.0000e+00\n",
      "Epoch 71/150\n",
      "74/74 [==============================] - 0s 80us/step - loss: 0.0016 - acc: 0.0135 - val_loss: 0.0024 - val_acc: 0.0000e+00\n",
      "Epoch 72/150\n",
      "74/74 [==============================] - 0s 67us/step - loss: 0.0017 - acc: 0.0135 - val_loss: 0.0024 - val_acc: 0.0000e+00\n",
      "Epoch 73/150\n",
      "74/74 [==============================] - 0s 88us/step - loss: 0.0017 - acc: 0.0135 - val_loss: 0.0024 - val_acc: 0.0000e+00\n",
      "Epoch 74/150\n",
      "74/74 [==============================] - 0s 87us/step - loss: 0.0016 - acc: 0.0135 - val_loss: 0.0025 - val_acc: 0.0000e+00\n",
      "Epoch 75/150\n",
      "74/74 [==============================] - 0s 94us/step - loss: 0.0014 - acc: 0.0135 - val_loss: 0.0029 - val_acc: 0.0000e+00\n",
      "Epoch 76/150\n",
      "74/74 [==============================] - 0s 108us/step - loss: 0.0016 - acc: 0.0135 - val_loss: 0.0034 - val_acc: 0.0000e+00\n",
      "Epoch 77/150\n",
      "74/74 [==============================] - 0s 108us/step - loss: 0.0018 - acc: 0.0135 - val_loss: 0.0032 - val_acc: 0.0000e+00\n",
      "Epoch 78/150\n",
      "74/74 [==============================] - 0s 97us/step - loss: 0.0017 - acc: 0.0135 - val_loss: 0.0027 - val_acc: 0.0000e+00\n",
      "Epoch 79/150\n",
      "74/74 [==============================] - 0s 122us/step - loss: 0.0015 - acc: 0.0135 - val_loss: 0.0023 - val_acc: 0.0000e+00\n",
      "Epoch 80/150\n",
      "74/74 [==============================] - 0s 108us/step - loss: 0.0014 - acc: 0.0135 - val_loss: 0.0022 - val_acc: 0.0000e+00\n",
      "Epoch 81/150\n",
      "74/74 [==============================] - 0s 95us/step - loss: 0.0015 - acc: 0.0135 - val_loss: 0.0022 - val_acc: 0.0000e+00\n",
      "Epoch 82/150\n",
      "74/74 [==============================] - 0s 108us/step - loss: 0.0015 - acc: 0.0135 - val_loss: 0.0023 - val_acc: 0.0000e+00\n",
      "Epoch 83/150\n",
      "74/74 [==============================] - 0s 94us/step - loss: 0.0014 - acc: 0.0135 - val_loss: 0.0024 - val_acc: 0.0000e+00\n",
      "Epoch 84/150\n",
      "74/74 [==============================] - 0s 108us/step - loss: 0.0013 - acc: 0.0135 - val_loss: 0.0025 - val_acc: 0.0000e+00\n",
      "Epoch 85/150\n",
      "74/74 [==============================] - 0s 94us/step - loss: 0.0013 - acc: 0.0135 - val_loss: 0.0028 - val_acc: 0.0000e+00\n",
      "Epoch 86/150\n",
      "74/74 [==============================] - 0s 94us/step - loss: 0.0014 - acc: 0.0135 - val_loss: 0.0030 - val_acc: 0.0000e+00\n",
      "Epoch 87/150\n",
      "74/74 [==============================] - 0s 111us/step - loss: 0.0015 - acc: 0.0135 - val_loss: 0.0030 - val_acc: 0.0000e+00\n",
      "Epoch 88/150\n",
      "74/74 [==============================] - 0s 88us/step - loss: 0.0014 - acc: 0.0135 - val_loss: 0.0029 - val_acc: 0.0000e+00\n",
      "Epoch 89/150\n",
      "74/74 [==============================] - 0s 108us/step - loss: 0.0013 - acc: 0.0135 - val_loss: 0.0027 - val_acc: 0.0000e+00\n",
      "Epoch 90/150\n",
      "74/74 [==============================] - 0s 92us/step - loss: 0.0013 - acc: 0.0135 - val_loss: 0.0025 - val_acc: 0.0000e+00\n",
      "Epoch 91/150\n",
      "74/74 [==============================] - 0s 87us/step - loss: 0.0013 - acc: 0.0135 - val_loss: 0.0025 - val_acc: 0.0000e+00\n",
      "Epoch 92/150\n",
      "74/74 [==============================] - 0s 94us/step - loss: 0.0013 - acc: 0.0135 - val_loss: 0.0025 - val_acc: 0.0000e+00\n",
      "Epoch 93/150\n",
      "74/74 [==============================] - 0s 94us/step - loss: 0.0013 - acc: 0.0135 - val_loss: 0.0025 - val_acc: 0.0000e+00\n",
      "Epoch 94/150\n",
      "74/74 [==============================] - 0s 77us/step - loss: 0.0012 - acc: 0.0135 - val_loss: 0.0026 - val_acc: 0.0000e+00\n",
      "Epoch 95/150\n",
      "74/74 [==============================] - 0s 108us/step - loss: 0.0012 - acc: 0.0135 - val_loss: 0.0025 - val_acc: 0.0000e+00\n",
      "Epoch 96/150\n",
      "74/74 [==============================] - 0s 96us/step - loss: 0.0012 - acc: 0.0135 - val_loss: 0.0024 - val_acc: 0.0000e+00\n",
      "Epoch 97/150\n",
      "74/74 [==============================] - 0s 122us/step - loss: 0.0012 - acc: 0.0135 - val_loss: 0.0023 - val_acc: 0.0000e+00\n",
      "Epoch 98/150\n",
      "74/74 [==============================] - 0s 106us/step - loss: 0.0012 - acc: 0.0135 - val_loss: 0.0023 - val_acc: 0.0000e+00\n",
      "Epoch 99/150\n",
      "74/74 [==============================] - 0s 111us/step - loss: 0.0012 - acc: 0.0135 - val_loss: 0.0022 - val_acc: 0.0000e+00\n",
      "Epoch 100/150\n",
      "74/74 [==============================] - 0s 121us/step - loss: 0.0011 - acc: 0.0135 - val_loss: 0.0023 - val_acc: 0.0000e+00\n",
      "Epoch 101/150\n",
      "74/74 [==============================] - 0s 94us/step - loss: 0.0011 - acc: 0.0135 - val_loss: 0.0023 - val_acc: 0.0000e+00\n",
      "Epoch 102/150\n",
      "74/74 [==============================] - 0s 94us/step - loss: 0.0011 - acc: 0.0135 - val_loss: 0.0023 - val_acc: 0.0000e+00\n",
      "Epoch 103/150\n",
      "74/74 [==============================] - 0s 94us/step - loss: 0.0011 - acc: 0.0135 - val_loss: 0.0024 - val_acc: 0.0000e+00\n",
      "Epoch 104/150\n",
      "74/74 [==============================] - 0s 121us/step - loss: 0.0011 - acc: 0.0135 - val_loss: 0.0025 - val_acc: 0.0000e+00\n",
      "Epoch 105/150\n",
      "74/74 [==============================] - 0s 94us/step - loss: 0.0011 - acc: 0.0135 - val_loss: 0.0023 - val_acc: 0.0000e+00\n",
      "Epoch 106/150\n",
      "74/74 [==============================] - 0s 108us/step - loss: 0.0011 - acc: 0.0135 - val_loss: 0.0023 - val_acc: 0.0000e+00\n",
      "Epoch 107/150\n",
      "74/74 [==============================] - 0s 94us/step - loss: 0.0011 - acc: 0.0135 - val_loss: 0.0024 - val_acc: 0.0000e+00\n",
      "Epoch 108/150\n",
      "74/74 [==============================] - 0s 108us/step - loss: 0.0011 - acc: 0.0135 - val_loss: 0.0026 - val_acc: 0.0000e+00\n",
      "Epoch 109/150\n",
      "74/74 [==============================] - 0s 104us/step - loss: 0.0011 - acc: 0.0135 - val_loss: 0.0026 - val_acc: 0.0000e+00\n",
      "Epoch 110/150\n",
      "74/74 [==============================] - 0s 108us/step - loss: 0.0011 - acc: 0.0135 - val_loss: 0.0026 - val_acc: 0.0000e+00\n",
      "Epoch 111/150\n",
      "74/74 [==============================] - 0s 108us/step - loss: 0.0011 - acc: 0.0135 - val_loss: 0.0025 - val_acc: 0.0000e+00\n",
      "Epoch 112/150\n",
      "74/74 [==============================] - 0s 121us/step - loss: 0.0011 - acc: 0.0135 - val_loss: 0.0023 - val_acc: 0.0000e+00\n",
      "Epoch 113/150\n",
      "74/74 [==============================] - 0s 105us/step - loss: 0.0011 - acc: 0.0135 - val_loss: 0.0022 - val_acc: 0.0000e+00\n",
      "Epoch 114/150\n",
      "74/74 [==============================] - 0s 95us/step - loss: 0.0011 - acc: 0.0135 - val_loss: 0.0021 - val_acc: 0.0000e+00\n",
      "Epoch 115/150\n",
      "74/74 [==============================] - 0s 108us/step - loss: 0.0011 - acc: 0.0135 - val_loss: 0.0021 - val_acc: 0.0000e+00\n",
      "Epoch 116/150\n",
      "74/74 [==============================] - 0s 107us/step - loss: 0.0011 - acc: 0.0135 - val_loss: 0.0021 - val_acc: 0.0000e+00\n",
      "Epoch 117/150\n",
      "74/74 [==============================] - 0s 93us/step - loss: 0.0010 - acc: 0.0135 - val_loss: 0.0022 - val_acc: 0.0000e+00\n",
      "Epoch 118/150\n",
      "74/74 [==============================] - 0s 94us/step - loss: 0.0010 - acc: 0.0135 - val_loss: 0.0024 - val_acc: 0.0000e+00\n",
      "Epoch 119/150\n"
     ]
    },
    {
     "name": "stdout",
     "output_type": "stream",
     "text": [
      "74/74 [==============================] - 0s 95us/step - loss: 0.0010 - acc: 0.0135 - val_loss: 0.0026 - val_acc: 0.0000e+00\n",
      "Epoch 120/150\n",
      "74/74 [==============================] - 0s 90us/step - loss: 0.0011 - acc: 0.0135 - val_loss: 0.0025 - val_acc: 0.0000e+00\n",
      "Epoch 121/150\n",
      "74/74 [==============================] - 0s 135us/step - loss: 0.0010 - acc: 0.0135 - val_loss: 0.0023 - val_acc: 0.0000e+00\n",
      "Epoch 122/150\n",
      "74/74 [==============================] - 0s 95us/step - loss: 9.9507e-04 - acc: 0.0135 - val_loss: 0.0022 - val_acc: 0.0000e+00\n",
      "Epoch 123/150\n",
      "74/74 [==============================] - 0s 94us/step - loss: 0.0010 - acc: 0.0135 - val_loss: 0.0022 - val_acc: 0.0000e+00\n",
      "Epoch 124/150\n",
      "74/74 [==============================] - 0s 91us/step - loss: 9.9071e-04 - acc: 0.0135 - val_loss: 0.0024 - val_acc: 0.0000e+00\n",
      "Epoch 125/150\n",
      "74/74 [==============================] - 0s 95us/step - loss: 9.9428e-04 - acc: 0.0135 - val_loss: 0.0027 - val_acc: 0.0000e+00\n",
      "Epoch 126/150\n",
      "74/74 [==============================] - 0s 121us/step - loss: 0.0011 - acc: 0.0135 - val_loss: 0.0028 - val_acc: 0.0000e+00\n",
      "Epoch 127/150\n",
      "74/74 [==============================] - 0s 108us/step - loss: 0.0011 - acc: 0.0135 - val_loss: 0.0026 - val_acc: 0.0000e+00\n",
      "Epoch 128/150\n",
      "74/74 [==============================] - 0s 95us/step - loss: 0.0010 - acc: 0.0135 - val_loss: 0.0024 - val_acc: 0.0000e+00\n",
      "Epoch 129/150\n",
      "74/74 [==============================] - 0s 108us/step - loss: 9.6119e-04 - acc: 0.0135 - val_loss: 0.0023 - val_acc: 0.0000e+00\n",
      "Epoch 130/150\n",
      "74/74 [==============================] - 0s 108us/step - loss: 9.7595e-04 - acc: 0.0135 - val_loss: 0.0022 - val_acc: 0.0000e+00\n",
      "Epoch 131/150\n",
      "74/74 [==============================] - 0s 107us/step - loss: 9.9399e-04 - acc: 0.0135 - val_loss: 0.0022 - val_acc: 0.0000e+00\n",
      "Epoch 132/150\n",
      "74/74 [==============================] - 0s 94us/step - loss: 9.6744e-04 - acc: 0.0135 - val_loss: 0.0023 - val_acc: 0.0000e+00\n",
      "Epoch 133/150\n",
      "74/74 [==============================] - 0s 81us/step - loss: 9.4599e-04 - acc: 0.0135 - val_loss: 0.0024 - val_acc: 0.0000e+00\n",
      "Epoch 134/150\n",
      "74/74 [==============================] - 0s 109us/step - loss: 9.4646e-04 - acc: 0.0135 - val_loss: 0.0024 - val_acc: 0.0000e+00\n",
      "Epoch 135/150\n",
      "74/74 [==============================] - 0s 107us/step - loss: 9.3673e-04 - acc: 0.0135 - val_loss: 0.0022 - val_acc: 0.0000e+00\n",
      "Epoch 136/150\n",
      "74/74 [==============================] - 0s 94us/step - loss: 9.3374e-04 - acc: 0.0135 - val_loss: 0.0021 - val_acc: 0.0000e+00\n",
      "Epoch 137/150\n",
      "74/74 [==============================] - 0s 94us/step - loss: 9.8264e-04 - acc: 0.0135 - val_loss: 0.0020 - val_acc: 0.0000e+00\n",
      "Epoch 138/150\n",
      "74/74 [==============================] - 0s 121us/step - loss: 9.9027e-04 - acc: 0.0135 - val_loss: 0.0021 - val_acc: 0.0000e+00\n",
      "Epoch 139/150\n",
      "74/74 [==============================] - 0s 94us/step - loss: 9.3584e-04 - acc: 0.0135 - val_loss: 0.0023 - val_acc: 0.0000e+00\n",
      "Epoch 140/150\n",
      "74/74 [==============================] - 0s 121us/step - loss: 9.5350e-04 - acc: 0.0135 - val_loss: 0.0025 - val_acc: 0.0000e+00\n",
      "Epoch 141/150\n",
      "74/74 [==============================] - 0s 108us/step - loss: 9.8259e-04 - acc: 0.0135 - val_loss: 0.0025 - val_acc: 0.0000e+00\n",
      "Epoch 142/150\n",
      "74/74 [==============================] - 0s 108us/step - loss: 9.7903e-04 - acc: 0.0135 - val_loss: 0.0024 - val_acc: 0.0000e+00\n",
      "Epoch 143/150\n",
      "74/74 [==============================] - 0s 98us/step - loss: 9.3348e-04 - acc: 0.0135 - val_loss: 0.0021 - val_acc: 0.0000e+00\n",
      "Epoch 144/150\n",
      "74/74 [==============================] - 0s 108us/step - loss: 9.0453e-04 - acc: 0.0135 - val_loss: 0.0020 - val_acc: 0.0000e+00\n",
      "Epoch 145/150\n",
      "74/74 [==============================] - 0s 113us/step - loss: 9.4461e-04 - acc: 0.0135 - val_loss: 0.0019 - val_acc: 0.0000e+00\n",
      "Epoch 146/150\n",
      "74/74 [==============================] - 0s 94us/step - loss: 0.0010 - acc: 0.0135 - val_loss: 0.0019 - val_acc: 0.0000e+00\n",
      "Epoch 147/150\n",
      "74/74 [==============================] - 0s 108us/step - loss: 9.6719e-04 - acc: 0.0135 - val_loss: 0.0021 - val_acc: 0.0000e+00\n",
      "Epoch 148/150\n",
      "74/74 [==============================] - 0s 94us/step - loss: 8.8234e-04 - acc: 0.0135 - val_loss: 0.0024 - val_acc: 0.0000e+00\n",
      "Epoch 149/150\n",
      "74/74 [==============================] - 0s 108us/step - loss: 9.3966e-04 - acc: 0.0135 - val_loss: 0.0026 - val_acc: 0.0000e+00\n",
      "Epoch 150/150\n",
      "74/74 [==============================] - 0s 112us/step - loss: 9.8757e-04 - acc: 0.0135 - val_loss: 0.0026 - val_acc: 0.0000e+00\n"
     ]
    }
   ],
   "source": [
    "hist = model.fit(X_train,y_train,epochs = 150,batch_size = 64,verbose = 1, validation_split = 0.2)"
   ]
  },
  {
   "cell_type": "code",
   "execution_count": 15,
   "metadata": {},
   "outputs": [
    {
     "data": {
      "text/plain": [
       "dict_keys(['val_loss', 'val_acc', 'loss', 'acc'])"
      ]
     },
     "execution_count": 15,
     "metadata": {},
     "output_type": "execute_result"
    }
   ],
   "source": [
    "hist.history.keys()"
   ]
  },
  {
   "cell_type": "code",
   "execution_count": 16,
   "metadata": {},
   "outputs": [
    {
     "data": {
      "text/plain": [
       "<matplotlib.legend.Legend at 0x21d58265320>"
      ]
     },
     "execution_count": 16,
     "metadata": {},
     "output_type": "execute_result"
    },
    {
     "data": {
      "image/png": "[encoded data removed]",
      "text/plain": [
       "<Figure size 432x288 with 1 Axes>"
      ]
     },
     "metadata": {},
     "output_type": "display_data"
    }
   ],
   "source": [
    "plt.plot(hist.history['loss'])\n",
    "plt.plot(hist.history['val_loss'])\n",
    "plt.title('Model Loss Progress')\n",
    "plt.ylabel('Training and Validation Loss')\n",
    "plt.xlabel('Epoch')\n",
    "plt.legend(['Loss','Validation Loss'])"
   ]
  },
  {
   "cell_type": "code",
   "execution_count": 17,
   "metadata": {},
   "outputs": [],
   "source": [
    "y_pred = model.predict(X_test)"
   ]
  },
  {
   "cell_type": "code",
   "execution_count": 18,
   "metadata": {},
   "outputs": [
    {
     "data": {
      "text/plain": [
       "<matplotlib.legend.Legend at 0x21d58308748>"
      ]
     },
     "execution_count": 18,
     "metadata": {},
     "output_type": "execute_result"
    },
    {
     "data": {
      "image/png": "[encoded data removed]",
      "text/plain": [
       "<Figure size 432x288 with 1 Axes>"
      ]
     },
     "metadata": {},
     "output_type": "display_data"
    }
   ],
   "source": [
    "plt.plot(y_pred)\n",
    "plt.plot(y_test)\n",
    "plt.legend(['Predicted','Real'])"
   ]
  },
  {
   "cell_type": "code",
   "execution_count": 19,
   "metadata": {},
   "outputs": [
    {
     "data": {
      "text/plain": [
       "<matplotlib.legend.Legend at 0x21d5833cf98>"
      ]
     },
     "execution_count": 19,
     "metadata": {},
     "output_type": "execute_result"
    },
    {
     "data": {
      "image/png": "[encoded data removed]",
      "text/plain": [
       "<Figure size 432x288 with 1 Axes>"
      ]
     },
     "metadata": {},
     "output_type": "display_data"
    }
   ],
   "source": [
    "y_pred = model.predict(X_train)\n",
    "plt.plot(y_pred)\n",
    "plt.plot(y_train)\n",
    "plt.legend(['Predicted','Real'])"
   ]
  },
  {
   "cell_type": "code",
   "execution_count": null,
   "metadata": {},
   "outputs": [],
   "source": []
  },
  {
   "cell_type": "code",
   "execution_count": null,
   "metadata": {},
   "outputs": [],
   "source": []
  },
  {
   "cell_type": "code",
   "execution_count": null,
   "metadata": {},
   "outputs": [],
   "source": []
  }
 ],
 "metadata": {
  "kernelspec": {
   "display_name": "Python 3",
   "language": "python",
   "name": "python3"
  },
  "language_info": {
   "codemirror_mode": {
    "name": "ipython",
    "version": 3
   },
   "file_extension": ".py",
   "mimetype": "text/x-python",
   "name": "python",
   "nbconvert_exporter": "python",
   "pygments_lexer": "ipython3",
   "version": "3.5.5"
  }
 },
 "nbformat": 4,
 "nbformat_minor": 2
}
