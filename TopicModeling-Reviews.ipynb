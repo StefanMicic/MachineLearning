{
 "cells": [
  {
   "cell_type": "code",
   "execution_count": 2,
   "metadata": {},
   "outputs": [
    {
     "name": "stdout",
     "output_type": "stream",
     "text": [
      "[nltk_data] Downloading package stopwords to\n",
      "[nltk_data]     C:\\Users\\HP\\AppData\\Roaming\\nltk_data...\n",
      "[nltk_data]   Package stopwords is already up-to-date!\n"
     ]
    }
   ],
   "source": [
    "import nltk\n",
    "nltk.download('stopwords') # run this one time\n",
    "import pandas as pd \n",
    "pd.set_option(\"display.max_colwidth\", 200) \n",
    "import numpy as np \n",
    "import re \n",
    "import spacy \n",
    "import matplotlib.pyplot as plt \n",
    "import seaborn as sns \n",
    "%matplotlib inline"
   ]
  },
  {
   "cell_type": "code",
   "execution_count": 3,
   "metadata": {},
   "outputs": [],
   "source": [
    "df = pd.read_json('Automotive_5.json', lines=True) "
   ]
  },
  {
   "cell_type": "code",
   "execution_count": 4,
   "metadata": {},
   "outputs": [],
   "source": [
    "from nltk.corpus import stopwords \n",
    "stop_words = stopwords.words('english')\n",
    "\n",
    "# function to remove stopwords \n",
    "def remove_stopwords(rev):     \n",
    "  rev_new = \" \".join([i for i in rev if i not in stop_words])      \n",
    "  return rev_new \n",
    "\n",
    "# remove short words (length < 3) \n",
    "df['reviewText'] = df['reviewText'].apply(lambda x: ' '.join([w for \n",
    "                   w in x.split() if len(w)>2])) \n",
    "# remove stopwords from the text \n",
    "reviews = [remove_stopwords(r.split()) for r in df['reviewText']] \n",
    "# make entire text lowercase \n",
    "reviews = [r.lower() for r in reviews]"
   ]
  },
  {
   "cell_type": "code",
   "execution_count": 5,
   "metadata": {},
   "outputs": [],
   "source": [
    "from nltk import FreqDist "
   ]
  },
  {
   "cell_type": "code",
   "execution_count": 6,
   "metadata": {},
   "outputs": [],
   "source": [
    "def freq_words(x, terms = 30): \n",
    "  all_words = ' '.join([text for text in x]) \n",
    "  all_words = all_words.split() \n",
    "  \n",
    "  fdist = FreqDist(all_words) \n",
    "  words_df = pd.DataFrame({'word':list(fdist.keys()),   \n",
    "             'count':list(fdist.values())}) \n",
    "  # selecting top 20 most frequent words \n",
    "  d = words_df.nlargest(columns=\"count\", n = terms)      \n",
    "  plt.figure(figsize=(20,5)) \n",
    "  ax = sns.barplot(data=d, x= \"word\", y = \"count\") \n",
    "  ax.set(ylabel = 'Count') \n",
    "  plt.show()"
   ]
  },
  {
   "cell_type": "code",
   "execution_count": 7,
   "metadata": {},
   "outputs": [
    {
     "data": {
      "image/png": "[encoded data removed]",
      "text/plain": [
       "<Figure size 1440x360 with 1 Axes>"
      ]
     },
     "metadata": {},
     "output_type": "display_data"
    }
   ],
   "source": [
    "freq_words(reviews, 10)"
   ]
  },
  {
   "cell_type": "code",
   "execution_count": 8,
   "metadata": {},
   "outputs": [],
   "source": [
    "nlp = spacy.load('en', disable=['parser', 'ner']) \n",
    "\n",
    "def lemmatization(texts, tags=['NOUN', 'ADJ']): \n",
    "       output = []        \n",
    "       for sent in texts:              \n",
    "             doc = nlp(\" \".join(sent))                             \n",
    "             output.append([token.lemma_ for token in doc if \n",
    "             token.pos_ in tags])        \n",
    "       return output"
   ]
  },
  {
   "cell_type": "code",
   "execution_count": 9,
   "metadata": {},
   "outputs": [
    {
     "name": "stdout",
     "output_type": "stream",
     "text": [
      "['long', 'cable', 'fine', 'truck', 'quality', 'little', 'shabby', 'side', 'money', 'dollar', 'jumper', 'cable', 'chinese', 'shop', 'harbor', 'freight', 'buck']\n"
     ]
    }
   ],
   "source": [
    "tokenized_reviews = pd.Series(reviews).apply(lambda x: x.split())\n",
    "reviews_2 = lemmatization(tokenized_reviews)\n",
    "print(reviews_2[1]) # print lemmatized review"
   ]
  },
  {
   "cell_type": "code",
   "execution_count": 14,
   "metadata": {},
   "outputs": [],
   "source": [
    "npr =[]\n",
    "for sent in reviews_2:\n",
    "    npr.append(' '.join(sent))"
   ]
  },
  {
   "cell_type": "code",
   "execution_count": 16,
   "metadata": {},
   "outputs": [
    {
     "name": "stderr",
     "output_type": "stream",
     "text": [
      "C:\\Users\\HP\\Anaconda3\\envs\\ori-env\\lib\\site-packages\\sklearn\\decomposition\\online_lda.py:536: DeprecationWarning: The default value for 'learning_method' will be changed from 'online' to 'batch' in the release 0.20. This warning was introduced in 0.18.\n",
      "  DeprecationWarning)\n"
     ]
    },
    {
     "name": "stdout",
     "output_type": "stream",
     "text": [
      "THE TOP 10 WORDS FOR 0\n",
      "['new', 'use', 'great', 'water', 'time', 'towel', 'clean', 'good', 'product', 'car']\n",
      "THE TOP 10 WORDS FOR 1\n",
      "['ice', 'foam', 'winter', 'rear', 'snow', 'water', 'tank', 'seat', 'color', 'leather']\n",
      "THE TOP 10 WORDS FOR 2\n",
      "['gauge', 'pressure', 'time', 'charger', 'hose', 'use', 'unit', 'power', 'car', 'battery']\n",
      "THE TOP 10 WORDS FOR 3\n",
      "['little', 'plastic', 'great', 'install', 'tool', 'fit', 'good', 'easy', 'wiper', 'blade']\n",
      "THE TOP 10 WORDS FOR 4\n",
      "['fuel', 'gas', 'air', 'mile', 'oem', 'change', 'good', 'engine', 'filter', 'oil']\n",
      "THE TOP 10 WORDS FOR 5\n",
      "['easy', 'use', 'door', 'pad', 'quality', 'price', 'wax', 'great', 'good', 'product']\n",
      "THE TOP 10 WORDS FOR 6\n",
      "['trailer', 'headlight', 'white', 'good', 'device', 'wheel', 'bright', 'bulb', 'tire', 'light']\n"
     ]
    }
   ],
   "source": [
    "from sklearn.decomposition import LatentDirichletAllocation\n",
    "from sklearn.feature_extraction.text import CountVectorizer\n",
    "cv = CountVectorizer(max_df = 0.9,min_df = 3,stop_words = 'english')\n",
    "dtm = cv.fit_transform(npr)\n",
    "LDA = LatentDirichletAllocation(n_components = 7,random_state = 42).fit(dtm)\n",
    "\n",
    "for i,topic in enumerate(LDA.components_):\n",
    "    print(\"THE TOP 10 WORDS FOR {}\".format(i))\n",
    "    print([cv.get_feature_names()[index] for index in topic.argsort()[-10:]])\n",
    "\n"
   ]
  },
  {
   "cell_type": "code",
   "execution_count": null,
   "metadata": {},
   "outputs": [],
   "source": []
  },
  {
   "cell_type": "code",
   "execution_count": null,
   "metadata": {},
   "outputs": [],
   "source": []
  },
  {
   "cell_type": "code",
   "execution_count": null,
   "metadata": {},
   "outputs": [],
   "source": []
  }
 ],
 "metadata": {
  "kernelspec": {
   "display_name": "Python 3",
   "language": "python",
   "name": "python3"
  },
  "language_info": {
   "codemirror_mode": {
    "name": "ipython",
    "version": 3
   },
   "file_extension": ".py",
   "mimetype": "text/x-python",
   "name": "python",
   "nbconvert_exporter": "python",
   "pygments_lexer": "ipython3",
   "version": "3.5.5"
  }
 },
 "nbformat": 4,
 "nbformat_minor": 2
}
